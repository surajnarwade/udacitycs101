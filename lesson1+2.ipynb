{
 "cells": [
  {
   "cell_type": "code",
   "execution_count": 4,
   "metadata": {
    "collapsed": false
   },
   "outputs": [],
   "source": [
    "import os\n",
    "a=[]\n",
    "b={}\n",
    "\n",
    "def list_all_files(path):\n",
    "   for root, dirs, files in os.walk(path):\n",
    "         for name in files:\n",
    "            if name.endswith('.conf'):\n",
    "                a.append(os.path.join(root, name))\n",
    "   return a\n",
    "\n",
    "if __name__ == \"__main__\":\n",
    "     files = list_all_files('/etc')\n",
    "     \n"
   ]
  },
  {
   "cell_type": "code",
   "execution_count": 6,
   "metadata": {
    "collapsed": false
   },
   "outputs": [],
   "source": [
    "def auth():\n",
    "    print \"AuthenticATED\"\n",
    "    auth()"
   ]
  },
  {
   "cell_type": "code",
   "execution_count": 7,
   "metadata": {
    "collapsed": true
   },
   "outputs": [],
   "source": [
    "def a():\n",
    "    return 1+1\n",
    "\n"
   ]
  },
  {
   "cell_type": "code",
   "execution_count": 2,
   "metadata": {
    "collapsed": false
   },
   "outputs": [
    {
     "data": {
      "text/plain": [
       "7"
      ]
     },
     "execution_count": 2,
     "metadata": {},
     "output_type": "execute_result"
    }
   ],
   "source": [
    "((7))\n"
   ]
  },
  {
   "cell_type": "code",
   "execution_count": 17,
   "metadata": {
    "collapsed": false
   },
   "outputs": [
    {
     "name": "stdout",
     "output_type": "stream",
     "text": [
      "29.9792458\n"
     ]
    }
   ],
   "source": [
    "speed_of_light = 299792458   #meters per second\n",
    "centimeters = 100            #one meter is 100 centimeters\n",
    "nanosecond = 1.0/1000000000  #one billionth of a second\n",
    "print speed_of_light*centimeters*nanosecond"
   ]
  },
  {
   "cell_type": "code",
   "execution_count": 166,
   "metadata": {
    "collapsed": false
   },
   "outputs": [
    {
     "name": "stdout",
     "output_type": "stream",
     "text": [
      "The result of is\n"
     ]
    },
    {
     "ename": "TypeError",
     "evalue": "not all arguments converted during string formatting",
     "output_type": "error",
     "traceback": [
      "\u001b[1;31m---------------------------------------------------------------------------\u001b[0m",
      "\u001b[1;31mTypeError\u001b[0m                                 Traceback (most recent call last)",
      "\u001b[1;32m<ipython-input-166-9af86d58572f>\u001b[0m in \u001b[0;36m<module>\u001b[1;34m()\u001b[0m\n\u001b[0;32m     12\u001b[0m  \u001b[1;32mreturn\u001b[0m \u001b[0mother_func\u001b[0m\u001b[1;33m\u001b[0m\u001b[0m\n\u001b[0;32m     13\u001b[0m \u001b[1;33m\u001b[0m\u001b[0m\n\u001b[1;32m---> 14\u001b[1;33m \u001b[1;33m@\u001b[0m\u001b[0manother_function\u001b[0m\u001b[1;33m(\u001b[0m\u001b[0ma_function\u001b[0m\u001b[1;33m,\u001b[0m\u001b[0mb_function\u001b[0m\u001b[1;33m)\u001b[0m\u001b[1;33m\u001b[0m\u001b[0m\n\u001b[0m\u001b[0;32m     15\u001b[0m \u001b[1;32mdef\u001b[0m \u001b[0ma_function\u001b[0m\u001b[1;33m(\u001b[0m\u001b[1;33m)\u001b[0m\u001b[1;33m:\u001b[0m\u001b[1;33m\u001b[0m\u001b[0m\n\u001b[0;32m     16\u001b[0m  \u001b[1;32mreturn\u001b[0m \u001b[1;34m\"1+3\"\u001b[0m\u001b[1;33m\u001b[0m\u001b[0m\n",
      "\u001b[1;32m<ipython-input-166-9af86d58572f>\u001b[0m in \u001b[0;36mother_func\u001b[1;34m(func)\u001b[0m\n\u001b[0;32m      7\u001b[0m  \u001b[1;32mdef\u001b[0m \u001b[0mother_func\u001b[0m\u001b[1;33m(\u001b[0m\u001b[0mfunc\u001b[0m\u001b[1;33m)\u001b[0m\u001b[1;33m:\u001b[0m\u001b[1;33m\u001b[0m\u001b[0m\n\u001b[0;32m      8\u001b[0m   val = \"The result of is\" % (func(),\n\u001b[1;32m----> 9\u001b[1;33m    \u001b[0meval\u001b[0m\u001b[1;33m(\u001b[0m\u001b[0mfunc\u001b[0m\u001b[1;33m(\u001b[0m\u001b[1;33m)\u001b[0m\u001b[1;33m)\u001b[0m\u001b[1;33m\u001b[0m\u001b[0m\n\u001b[0m\u001b[0;32m     10\u001b[0m    )\n\u001b[0;32m     11\u001b[0m   \u001b[1;32mreturn\u001b[0m \u001b[0mval\u001b[0m\u001b[1;33m\u001b[0m\u001b[0m\n",
      "\u001b[1;31mTypeError\u001b[0m: not all arguments converted during string formatting"
     ]
    }
   ],
   "source": [
    "def another_function(func,func1):\n",
    " \"\"\"\n",
    " A function that accepts another function\n",
    " \"\"\"\n",
    " print(\"The result of is\")\n",
    "       \n",
    " def other_func(func):\n",
    "  val = \"The result of is\" % (func(),\n",
    "   eval(func())\n",
    "   )\n",
    "  return val\n",
    " return other_func\n",
    "\n",
    "@another_function(a_function,b_function)\n",
    "def a_function():\n",
    " return \"1+3\"\n",
    "\n",
    "@another_function\n",
    "def b_function():\n",
    "    return \"2+4\"\n",
    "\n",
    "if __name__ == \"__main__\":\n",
    " value = a_function()\n",
    " value1 = b_function()\n",
    " print(value)\n",
    " print(value1)"
   ]
  },
  {
   "cell_type": "code",
   "execution_count": 18,
   "metadata": {
    "collapsed": false
   },
   "outputs": [
    {
     "name": "stdout",
     "output_type": "stream",
     "text": [
      "29.9792458\n"
     ]
    }
   ],
   "source": [
    "speed_of_light = 299792458   #meters per second\n",
    "centimeters = 100            #one meter is 100 centimeters\n",
    "nanosecond = 1.0/1000000000  #one billionth of a second\n",
    "print speed_of_light*centimeters*nanosecond"
   ]
  },
  {
   "cell_type": "code",
   "execution_count": 19,
   "metadata": {
    "collapsed": false
   },
   "outputs": [
    {
     "name": "stdout",
     "output_type": "stream",
     "text": [
      "0.111034243704\n"
     ]
    }
   ],
   "source": [
    "speed_of_light = 299792458.0 \n",
    "cycles_per_second = 2700000000.0\n",
    "print speed_of_light/cycles_per_second"
   ]
  },
  {
   "cell_type": "code",
   "execution_count": 21,
   "metadata": {
    "collapsed": false
   },
   "outputs": [
    {
     "name": "stdout",
     "output_type": "stream",
     "text": [
      "20\n"
     ]
    }
   ],
   "source": [
    "hours=9\n",
    "hours=hours+1\n",
    "hours=hours*2\n",
    "print hours"
   ]
  },
  {
   "cell_type": "code",
   "execution_count": 25,
   "metadata": {
    "collapsed": false
   },
   "outputs": [
    {
     "name": "stdout",
     "output_type": "stream",
     "text": [
      "300\n"
     ]
    }
   ],
   "source": [
    "minutes=minutes+1\n",
    "seconds=minutes*60\n",
    "print seconds"
   ]
  },
  {
   "cell_type": "code",
   "execution_count": 26,
   "metadata": {
    "collapsed": false
   },
   "outputs": [
    {
     "name": "stdout",
     "output_type": "stream",
     "text": [
      "8030\n"
     ]
    }
   ],
   "source": [
    "age=22\n",
    "print age*365"
   ]
  },
  {
   "cell_type": "code",
   "execution_count": 31,
   "metadata": {
    "collapsed": false
   },
   "outputs": [
    {
     "name": "stdout",
     "output_type": "stream",
     "text": [
      "spirit age is  8035.5\n"
     ]
    }
   ],
   "source": [
    "age=22\n",
    "days_in_year=365.25\n",
    "print \"spirit age is \",  age*days_in_year"
   ]
  },
  {
   "cell_type": "code",
   "execution_count": 39,
   "metadata": {
    "collapsed": false
   },
   "outputs": [
    {
     "name": "stdout",
     "output_type": "stream",
     "text": [
      "hello suraj!!!!!!!!!!!!\n",
      "hello suraj\n",
      "hello 2\n",
      "aaaaaaaaaaaa\n"
     ]
    }
   ],
   "source": [
    "name='suraj'\n",
    "print 'hello ' + name + '!'*12\n",
    "print 'hello', name\n",
    "a=2\n",
    "print 'hello',a\n",
    "print 'a'*12"
   ]
  },
  {
   "cell_type": "code",
   "execution_count": 48,
   "metadata": {
    "collapsed": false
   },
   "outputs": [
    {
     "data": {
      "text/plain": [
       "'s'"
      ]
     },
     "execution_count": 48,
     "metadata": {},
     "output_type": "execute_result"
    }
   ],
   "source": [
    "len('udacity.conf')\n",
    "'udacity.conf'[11]\n",
    "a='suraj'\n",
    "(a+a)[0]\n"
   ]
  },
  {
   "cell_type": "code",
   "execution_count": 66,
   "metadata": {
    "collapsed": false
   },
   "outputs": [
    {
     "name": "stdout",
     "output_type": "stream",
     "text": [
      "http://udacity.com\n"
     ]
    }
   ],
   "source": [
    "page =('<div id=\"top_bin\"><div id=\"top_content\" class=\"width960\">'\n",
    "'<div class=\"udacity float-left\"><a href=\"http://udacity.com\">')\n",
    "start_link = page.find('<a href=')\n",
    "a = page[start_link:]\n",
    "url=a[(a.find('http')):-2]\n",
    "print url\n",
    "\n",
    "\n",
    "\n"
   ]
  },
  {
   "cell_type": "code",
   "execution_count": 102,
   "metadata": {
    "collapsed": false
   },
   "outputs": [
    {
     "name": "stdout",
     "output_type": "stream",
     "text": [
      "89\n",
      "97\n",
      "116\n",
      "http://udacity.com\n"
     ]
    }
   ],
   "source": [
    "page =('<div id=\"top_bin\"><div id=\"top_content\" class=\"width960\">'\n",
    "'<div class=\"udacity float-left\"><a href=\"http://udacity.com\">')\n",
    "start_link = page.find('<a href=')\n",
    "print start_link\n",
    "start_quote = page.find('\"',start_link)\n",
    "print start_quote\n",
    "end_quote = page.find('\"',start_quote+1)\n",
    "print end_quote\n",
    "url=page[start_quote+1:end_quote]\n",
    "print url"
   ]
  },
  {
   "cell_type": "code",
   "execution_count": 104,
   "metadata": {
    "collapsed": false
   },
   "outputs": [
    {
     "name": "stdout",
     "output_type": "stream",
     "text": [
      "http://www.wikipedia.org/wiki/Higher_education\n",
      "http://www.wikipedia.org/wiki/Sebastian_Thrun\n",
      "http://www.wikipedia.org/wiki/Digital_Life_Design\n",
      "1153\n"
     ]
    }
   ],
   "source": [
    "text=\"\"\"text='<div class=\"ltr\"><div class=\"ureact-markdown--markdown--3IhZa ureact-markdown\"><h1 id=\"errata-\">Errata:</h1>\n",
    "<p>You <em>do</em> get instant feedback for your answers for homework and there are no deadlines for the homework on this version of this course. You can submit your answer as many times as you like.</p>\n",
    "<p>The <em>sample web page</em> Dave refers to is the content below:</p>\n",
    "<hr>\n",
    "<p></p><p></p>\n",
    "<p></p><h2>Sample Web Page</h2>\n",
    "    <title>Udacity</title>\n",
    "    <h1>Udacity</h1>\n",
    "    <p><h1>Search Engines And The Web</h1><b>Udacity</b> is a private institution of\n",
    "    <a href=\"http://www.wikipedia.org/wiki/Higher_education\">higher education founded by</a> <a href=\"http://www.wikipedia.org/wiki/Sebastian_Thrun\">Sebastian Thrun</a>, David Stavens, and Mike Sokolsky with the goal to provide university-level education that is \"both high quality and low cost\".</p><p> It is the outgrowth of a free computer science class offered in 2011 through Stanford University. Udacity was announced at the 2012 <a href=\"http://www.wikipedia.org/wiki/Digital_Life_Design\">Digital Life Design</a> conference.</p><br>    \n",
    "    <p></p>\n",
    "</div></div>'\n",
    "      \"\"\"\n",
    "\n",
    "ref=0\n",
    "link=text.find('<a href=',ref)\n",
    "start_quote = text.find('\"', link)\n",
    "end_quote = text.find('\"', start_quote+1)\n",
    "print text[start_quote+1:end_quote]\n",
    "\n",
    "ref = end_quote+1 \n",
    "link=text.find('<a href=', ref)\n",
    "start_quote = text.find('\"', link)\n",
    "end_quote = text.find('\"', start_quote+1)\n",
    "print text[start_quote+1:end_quote]\n",
    "\n",
    "ref = end_quote+1 \n",
    "link=text.find('<a href=', ref)\n",
    "start_quote = text.find('\"', link)\n",
    "end_quote = text.find('\"', start_quote+1)\n",
    "print text[start_quote+1:end_quote]\n",
    "print len(text)"
   ]
  },
  {
   "cell_type": "code",
   "execution_count": 130,
   "metadata": {
    "collapsed": false
   },
   "outputs": [
    {
     "name": "stdout",
     "output_type": "stream",
     "text": [
      "http://www.wikipedia.org/wiki/Higher_education\n",
      "http://www.wikipedia.org/wiki/Sebastian_Thrun\n",
      "http://www.wikipedia.org/wiki/Digital_Life_Design\n"
     ]
    }
   ],
   "source": [
    "text=\"\"\"text='<div class=\"ltr\"><div class=\"ureact-markdown--markdown--3IhZa ureact-markdown\"><h1 id=\"errata-\">Errata:</h1>\n",
    "<p>You <em>do</em> get instant feedback for your answers for homework and there are no deadlines for the homework on this version of this course. You can submit your answer as many times as you like.</p>\n",
    "<p>The <em>sample web page</em> Dave refers to is the content below:</p>\n",
    "<hr>\n",
    "<p></p><p></p>\n",
    "<p></p><h2>Sample Web Page</h2>\n",
    "    <title>Udacity</title>\n",
    "    <h1>Udacity</h1>\n",
    "    <p><h1>Search Engines And The Web</h1><b>Udacity</b> is a private institution of\n",
    "    <a href=\"http://www.wikipedia.org/wiki/Higher_education\">higher education founded by</a> <a href=\"http://www.wikipedia.org/wiki/Sebastian_Thrun\">Sebastian Thrun</a>, David Stavens, and Mike Sokolsky with the goal to provide university-level education that is \"both high quality and low cost\".</p><p> It is the outgrowth of a free computer science class offered in 2011 through Stanford University. Udacity was announced at the 2012 <a href=\"http://www.wikipedia.org/wiki/Digital_Life_Design\">Digital Life Design</a> conference.</p><br>    \n",
    "    <p></p>\n",
    "</div></div>'\n",
    "      \"\"\"\n",
    "\n",
    "end_quote=0\n",
    "for i in range(0,text.count('<a href=')):\n",
    " link=text.find('<a href=', end_quote)\n",
    " start_quote = text.find('\"', link)\n",
    " end_quote = text.find('\"', start_quote+1)\n",
    " print text[start_quote+1:end_quote]\n",
    " \n",
    " \n",
    "\n",
    "\n",
    "    \n",
    " \n"
   ]
  },
  {
   "cell_type": "code",
   "execution_count": 167,
   "metadata": {
    "collapsed": false
   },
   "outputs": [
    {
     "name": "stdout",
     "output_type": "stream",
     "text": [
      "1176\n"
     ]
    }
   ],
   "source": [
    "print 7*7*24"
   ]
  },
  {
   "cell_type": "code",
   "execution_count": 168,
   "metadata": {
    "collapsed": false
   },
   "outputs": [
    {
     "data": {
      "text/plain": [
       "'Lesson 2- quiz find second'"
      ]
     },
     "execution_count": 168,
     "metadata": {},
     "output_type": "execute_result"
    }
   ],
   "source": [
    "'Lesson 2- quiz find second'"
   ]
  },
  {
   "cell_type": "code",
   "execution_count": 171,
   "metadata": {
    "collapsed": false
   },
   "outputs": [
    {
     "name": "stdout",
     "output_type": "stream",
     "text": [
      "25\n"
     ]
    }
   ],
   "source": [
    "danton = \"De l'audace, encore de l'audace, toujours de l'audace\"\n",
    "\n",
    "def find_second(text,word):\n",
    "    first=text.find(word)\n",
    "    second=text.find(word,first+1)\n",
    "    return second\n",
    "print find_second(danton, 'audace')"
   ]
  },
  {
   "cell_type": "code",
   "execution_count": 172,
   "metadata": {
    "collapsed": false
   },
   "outputs": [
    {
     "name": "stdout",
     "output_type": "stream",
     "text": [
      "25\n"
     ]
    }
   ],
   "source": [
    "danton = \"De l'audace, encore de l'audace, toujours de l'audace\"\n",
    "\n",
    "def find_second(text,word):\n",
    "    second=text.find(word, text.find(word)+1)\n",
    "    return second\n",
    "print find_second(danton, 'audace')"
   ]
  },
  {
   "cell_type": "code",
   "execution_count": 174,
   "metadata": {
    "collapsed": false
   },
   "outputs": [
    {
     "name": "stdout",
     "output_type": "stream",
     "text": [
      "3\n"
     ]
    }
   ],
   "source": [
    "def bigger(a,b):\n",
    "    if a>=b:\n",
    "       return a\n",
    "    else:\n",
    "        return b\n",
    "    \n",
    "print bigger(2,3)"
   ]
  },
  {
   "cell_type": "code",
   "execution_count": 176,
   "metadata": {
    "collapsed": false
   },
   "outputs": [
    {
     "name": "stdout",
     "output_type": "stream",
     "text": [
      "3\n"
     ]
    }
   ],
   "source": [
    "def bigger(a,b):\n",
    "    if a>b:\n",
    "       return a\n",
    "    return b\n",
    "    \n",
    "print bigger(3,3)"
   ]
  },
  {
   "cell_type": "code",
   "execution_count": 178,
   "metadata": {
    "collapsed": false
   },
   "outputs": [
    {
     "name": "stdout",
     "output_type": "stream",
     "text": [
      "True\n"
     ]
    }
   ],
   "source": [
    "def is_friend(name):\n",
    "    return name[0]=='D'\n",
    "\n",
    "print is_friend('Dilip')"
   ]
  },
  {
   "cell_type": "code",
   "execution_count": 181,
   "metadata": {
    "collapsed": false
   },
   "outputs": [
    {
     "name": "stdout",
     "output_type": "stream",
     "text": [
      "False\n"
     ]
    }
   ],
   "source": [
    "def is_friend(name):\n",
    "    return name[0]=='D' or name[0]=='N'\n",
    "\n",
    "print is_friend('Pilip')"
   ]
  },
  {
   "cell_type": "code",
   "execution_count": 183,
   "metadata": {
    "collapsed": false
   },
   "outputs": [
    {
     "name": "stdout",
     "output_type": "stream",
     "text": [
      "9\n"
     ]
    }
   ],
   "source": [
    "def biggest(a,b,c):\n",
    "    if a>=b and a>=c:\n",
    "        return a\n",
    "    if b>=a and b>=c:\n",
    "        return b\n",
    "    if c>=a and c>=b:\n",
    "        return c\n",
    "        \n",
    "print biggest(3,6,9)"
   ]
  },
  {
   "cell_type": "code",
   "execution_count": 186,
   "metadata": {
    "collapsed": false
   },
   "outputs": [
    {
     "name": "stdout",
     "output_type": "stream",
     "text": [
      "9\n"
     ]
    }
   ],
   "source": [
    "def biggest1(a,b,c):\n",
    "    if a>b:\n",
    "        if a>c:\n",
    "            return a\n",
    "        else:\n",
    "            return c\n",
    "    else:\n",
    "        if b>c:\n",
    "            return b\n",
    "        else:\n",
    "            return c\n",
    "\n",
    "print biggest1(3,6,9)"
   ]
  },
  {
   "cell_type": "code",
   "execution_count": 187,
   "metadata": {
    "collapsed": false
   },
   "outputs": [
    {
     "name": "stdout",
     "output_type": "stream",
     "text": [
      "9\n"
     ]
    }
   ],
   "source": [
    "def biggest(a,b,c):\n",
    "    def bigger(q,w):\n",
    "        if q>w:\n",
    "            return q\n",
    "        else:\n",
    "            return w\n",
    "    return bigger(bigger(a,b),c)\n",
    "\n",
    "print biggest(3,6,9)"
   ]
  },
  {
   "cell_type": "code",
   "execution_count": 195,
   "metadata": {
    "collapsed": false
   },
   "outputs": [
    {
     "name": "stdout",
     "output_type": "stream",
     "text": [
      "1\n",
      "2\n",
      "3\n"
     ]
    }
   ],
   "source": [
    "def print_numbers(a):\n",
    "    i=1\n",
    "    while i<=a:\n",
    "        print i\n",
    "        i=i+1\n",
    "    \n",
    "print_numbers(3)"
   ]
  },
  {
   "cell_type": "code",
   "execution_count": 197,
   "metadata": {
    "collapsed": false
   },
   "outputs": [
    {
     "name": "stdout",
     "output_type": "stream",
     "text": [
      "720\n"
     ]
    }
   ],
   "source": [
    "#factorial\n",
    "def factorial(n):\n",
    "    c=1\n",
    "    while n!=1:\n",
    "        c=n*c\n",
    "        n=n-1\n",
    "    return c\n",
    "\n",
    "print factorial(6)"
   ]
  },
  {
   "cell_type": "code",
   "execution_count": null,
   "metadata": {
    "collapsed": true
   },
   "outputs": [],
   "source": [
    "#return None, 0 "
   ]
  },
  {
   "cell_type": "code",
   "execution_count": 198,
   "metadata": {
    "collapsed": false
   },
   "outputs": [
    {
     "name": "stdout",
     "output_type": "stream",
     "text": [
      "Uturn\n"
     ]
    }
   ],
   "source": [
    "def udacify(text):\n",
    "    return 'U'+text\n",
    "\n",
    "print udacify('turn')"
   ]
  },
  {
   "cell_type": "code",
   "execution_count": null,
   "metadata": {
    "collapsed": true
   },
   "outputs": [],
   "source": [
    "#Lesson2 optional QA2 is blocking superhero nuisance"
   ]
  },
  {
   "cell_type": "code",
   "execution_count": 201,
   "metadata": {
    "collapsed": false
   },
   "outputs": [
    {
     "name": "stdout",
     "output_type": "stream",
     "text": [
      "28\n"
     ]
    }
   ],
   "source": [
    "def how_many(x):\n",
    "    days_in_month = [31, 28, 31, 30, 31, 30, 31, 31, 30, 31, 30, 31]\n",
    "    return days_in_month[x-1]\n",
    "\n",
    "print how_many(2)"
   ]
  },
  {
   "cell_type": "code",
   "execution_count": 207,
   "metadata": {
    "collapsed": false
   },
   "outputs": [
    {
     "name": "stdout",
     "output_type": "stream",
     "text": [
      "Delhi\n"
     ]
    }
   ],
   "source": [
    "countries = [['China', 'Beijing', 1350],\n",
    "                   ['India', 'Delhi', 1220],\n",
    "                   ['Romania', 'Bucharest', 21],\n",
    "                   ['United States', 'Washington', 307]]\n",
    "\n",
    "print countries[1][1]"
   ]
  },
  {
   "cell_type": "code",
   "execution_count": 209,
   "metadata": {
    "collapsed": false
   },
   "outputs": [
    {
     "name": "stdout",
     "output_type": "stream",
     "text": [
      "0\n",
      "2\n"
     ]
    }
   ],
   "source": [
    "def measure_udacity(a):\n",
    "    q=0\n",
    "    for i in a:\n",
    "        if i.startswith('U'):\n",
    "            q=q+1\n",
    "    return q\n",
    "        \n",
    "print measure_udacity(['Dave','Sebastian','Katy'])\n",
    "print measure_udacity(['Umika','Umberto'])"
   ]
  },
  {
   "cell_type": "code",
   "execution_count": 210,
   "metadata": {
    "collapsed": false
   },
   "outputs": [
    {
     "name": "stdout",
     "output_type": "stream",
     "text": [
      "0\n",
      "2\n"
     ]
    }
   ],
   "source": [
    "def measure_udacity(a):\n",
    "    q=0\n",
    "    for i in a:\n",
    "        if i[0] == 'U':\n",
    "            q=q+1\n",
    "    return q\n",
    "        \n",
    "print measure_udacity(['Dave','Sebastian','Katy'])\n",
    "print measure_udacity(['Umika','Umberto'])"
   ]
  },
  {
   "cell_type": "code",
   "execution_count": 212,
   "metadata": {
    "collapsed": false
   },
   "outputs": [
    {
     "name": "stdout",
     "output_type": "stream",
     "text": [
      "2\n"
     ]
    }
   ],
   "source": [
    "def find_element(a,b):\n",
    "    for i in a:\n",
    "        if i == b:\n",
    "            return a.index(i)\n",
    "    return -1\n",
    "        \n",
    "print find_element([1,2,3],3)"
   ]
  },
  {
   "cell_type": "code",
   "execution_count": 8,
   "metadata": {
    "collapsed": false
   },
   "outputs": [
    {
     "name": "stdout",
     "output_type": "stream",
     "text": [
      "2\n"
     ]
    }
   ],
   "source": [
    "def find_element(a,b):\n",
    "    i=0\n",
    "    while i<len(a):\n",
    "        if a[i] == b:\n",
    "         return i\n",
    "        i=i+1\n",
    "    return -1\n",
    "        \n",
    "print find_element([1,2,3],3)"
   ]
  },
  {
   "cell_type": "code",
   "execution_count": 9,
   "metadata": {
    "collapsed": false
   },
   "outputs": [
    {
     "name": "stdout",
     "output_type": "stream",
     "text": [
      "[1, 2, 3, 4, 6]\n",
      "[2, 4, 6]\n"
     ]
    }
   ],
   "source": [
    "def union(a,b):\n",
    "    for i in b:\n",
    "       if i not in a:\n",
    "        a.append(i)\n",
    "    return a \n",
    "\n",
    "a = [1,2,3]\n",
    "b = [2,4,6]\n",
    "\n",
    "union(a,b)\n",
    "print a\n",
    "print b"
   ]
  }
 ],
 "metadata": {
  "kernelspec": {
   "display_name": "Python 2",
   "language": "python",
   "name": "python2"
  },
  "language_info": {
   "codemirror_mode": {
    "name": "ipython",
    "version": 2
   },
   "file_extension": ".py",
   "mimetype": "text/x-python",
   "name": "python",
   "nbconvert_exporter": "python",
   "pygments_lexer": "ipython2",
   "version": "2.7.11"
  }
 },
 "nbformat": 4,
 "nbformat_minor": 0
}
